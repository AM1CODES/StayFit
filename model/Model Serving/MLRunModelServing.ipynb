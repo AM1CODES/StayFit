{
 "cells": [
  {
   "cell_type": "markdown",
   "metadata": {},
   "source": [
    "# Configuring Nuclio\n",
    "---"
   ]
  },
  {
   "cell_type": "code",
   "execution_count": 38,
   "metadata": {},
   "outputs": [],
   "source": [
    "# nuclio: ignore\n",
    "import nuclio"
   ]
  },
  {
   "cell_type": "code",
   "execution_count": 39,
   "metadata": {},
   "outputs": [
    {
     "name": "stdout",
     "output_type": "stream",
     "text": [
      "%nuclio: setting kind to 'serving'\n",
      "%nuclio: setting spec.build.baseImage to 'mlrun/mlrun'\n"
     ]
    }
   ],
   "source": [
    "%nuclio config kind=\"serving\"\n",
    "\n",
    "# tensorflow 2 use the default serving image (or the mlrun/ml-models for a faster build)\n",
    "\n",
    "%nuclio config spec.build.baseImage = \"mlrun/mlrun\""
   ]
  },
  {
   "cell_type": "code",
   "execution_count": 40,
   "metadata": {},
   "outputs": [],
   "source": [
    "%%nuclio cmd -c\n",
    "pip install tensorflow>=2.4.1\n",
    "pip install requests pillow"
   ]
  },
  {
   "cell_type": "code",
   "execution_count": 46,
   "metadata": {},
   "outputs": [
    {
     "data": {
      "text/plain": [
       "'/User/prac_deployment/YogaNet_Model_3_MobileNet.h5'"
      ]
     },
     "execution_count": 46,
     "metadata": {},
     "output_type": "execute_result"
    }
   ],
   "source": [
    "SERVING_MODEL_POSENET = os.path.join(os.getcwd(), \"YogaNet_Model_3_MobileNet.h5\")"
   ]
  },
  {
   "cell_type": "markdown",
   "metadata": {},
   "source": [
    "# Installing Project Dependencies\n",
    "---"
   ]
  },
  {
   "cell_type": "code",
   "execution_count": 35,
   "metadata": {},
   "outputs": [
    {
     "name": "stdout",
     "output_type": "stream",
     "text": [
      "Requirement already satisfied: h5py in /conda/lib/python3.7/site-packages (2.10.0)\n",
      "Requirement already satisfied: six in /conda/lib/python3.7/site-packages (from h5py) (1.12.0)\n",
      "Requirement already satisfied: numpy>=1.7 in /conda/lib/python3.7/site-packages (from h5py) (1.19.2)\n"
     ]
    }
   ],
   "source": [
    "!pip install h5py"
   ]
  },
  {
   "cell_type": "code",
   "execution_count": 42,
   "metadata": {},
   "outputs": [],
   "source": [
    "import warnings\n",
    "warnings.simplefilter(action=\"ignore\", category=FutureWarning)"
   ]
  },
  {
   "cell_type": "code",
   "execution_count": 43,
   "metadata": {},
   "outputs": [],
   "source": [
    "import json\n",
    "import numpy as np\n",
    "import requests\n",
    "from tensorflow import keras\n",
    "from tensorflow.keras.models import load_model\n",
    "from tensorflow.keras.preprocessing import image\n",
    "from tensorflow.keras.preprocessing.image import load_img\n",
    "from os import environ, path\n",
    "from PIL import Image\n",
    "from io import BytesIO\n",
    "from urllib.request import urlopen\n",
    "import mlrun\n",
    "from PIL import Image\n",
    "from io import BytesIO\n",
    "import matplotlib.pyplot as plt\n",
    "import os"
   ]
  },
  {
   "cell_type": "markdown",
   "metadata": {},
   "source": [
    "# Model Functions\n",
    "---"
   ]
  },
  {
   "cell_type": "code",
   "execution_count": 44,
   "metadata": {},
   "outputs": [],
   "source": [
    "class TFModel(mlrun.serving.V2ModelServer):\n",
    "\n",
    "    def load(self):\n",
    "        self.IMAGE_WIDTH = int(environ.get('IMAGE_WIDTH', '224'))\n",
    "        self.IMAGE_HEIGHT = int(environ.get('IMAGE_HEIGHT', '224'))\n",
    "        \n",
    "        try:\n",
    "            with open(environ['classes_map'], 'r') as f:\n",
    "                self.classes = json.load(f)\n",
    "        except:\n",
    "            self.classes = None\n",
    "        \n",
    "        model_file, extra_data = self.get_model('.h5')\n",
    "        self.model = load_model(model_file)\n",
    "        \n",
    "    def preprocess(self, body, operation):\n",
    "        try:\n",
    "            output = {'inputs': []}\n",
    "            inputs = body.get('inputs', [])\n",
    "            for byte_image in inputs:\n",
    "                img = Image.open(byte_image)\n",
    "                img = img.resize((self.IMAGE_WIDTH, self.IMAGE_HEIGHT))\n",
    "\n",
    "                # Load image\n",
    "                x = image.img_to_array(img)\n",
    "                x = np.expand_dims(x, axis=0)\n",
    "                output['inputs'].append(x)\n",
    "            \n",
    "            # Format inputs list\n",
    "            output['inputs'] = [np.vstack(output['inputs'])]\n",
    "            return output\n",
    "        except:\n",
    "            raise Exception(f'received: {body}')\n",
    "            \n",
    "\n",
    "    def predict(self, data):\n",
    "        images = data.get('inputs', [])\n",
    "\n",
    "        # Predict\n",
    "        predicted_probability = self.model.predict(images)\n",
    "\n",
    "        # return prediction\n",
    "        return predicted_probability.tolist()[0]"
   ]
  },
  {
   "cell_type": "code",
   "execution_count": 48,
   "metadata": {},
   "outputs": [],
   "source": [
    "import os\n",
    "from mlrun import mlconf\n",
    "from mlrun import code_to_function, mount_v3io\n",
    "\n",
    "model_class = 'TFModel'\n",
    "model_name = 'PoseNet' # Define for later use in tests\n",
    "models = {model_name: os.path.join(os.getcwd(), 'YogaNet_Model_3_MobileNet.h5')}\n",
    "\n",
    "function_envs = {\n",
    "     'IMAGE_HEIGHT': 224,\n",
    "     'IMAGE_WIDTH': 224,\n",
    "}"
   ]
  },
  {
   "cell_type": "markdown",
   "metadata": {},
   "source": [
    "## Setup the Model Server Function"
   ]
  },
  {
   "cell_type": "code",
   "execution_count": 50,
   "metadata": {},
   "outputs": [
    {
     "name": "stdout",
     "output_type": "stream",
     "text": [
      "> 2021-07-03 10:56:20,122 [info] function spec saved to path: function.yaml\n"
     ]
    },
    {
     "data": {
      "text/plain": [
       "<mlrun.serving.states.TaskState at 0x7f9245532310>"
      ]
     },
     "execution_count": 50,
     "metadata": {},
     "output_type": "execute_result"
    }
   ],
   "source": [
    "fn = code_to_function('tf2-serving-v2', kind=\"serving\")\n",
    "fn.spec.description = \"tf2 image classification server v2\"\n",
    "fn.metadata.categories = ['serving', 'dl']\n",
    "fn.metadata.labels = {'author': 'aayush'}\n",
    "fn.export(\"function.yaml\")\n",
    "fn.set_envs(function_envs)\n",
    "fn.add_model(key=\"model\",\n",
    "             model_path= SERVING_MODEL_POSENET,\n",
    "             class_name=\"TFModel\")"
   ]
  },
  {
   "cell_type": "code",
   "execution_count": 51,
   "metadata": {},
   "outputs": [
    {
     "data": {
      "text/plain": [
       "<mlrun.runtimes.serving.ServingRuntime at 0x7f92471c4a10>"
      ]
     },
     "execution_count": 51,
     "metadata": {},
     "output_type": "execute_result"
    }
   ],
   "source": [
    "fn.apply(mount_v3io())"
   ]
  },
  {
   "cell_type": "markdown",
   "metadata": {},
   "source": [
    "## Serving the Model"
   ]
  },
  {
   "cell_type": "code",
   "execution_count": 52,
   "metadata": {},
   "outputs": [
    {
     "name": "stdout",
     "output_type": "stream",
     "text": [
      "> 2021-07-03 10:56:33,915 [info] Starting remote function deploy\n",
      "2021-07-03 10:56:34  (info) Deploying function\n",
      "2021-07-03 10:56:34  (info) Building\n",
      "2021-07-03 10:56:34  (info) Staging files and preparing base images\n",
      "2021-07-03 10:56:34  (info) Building processor image\n",
      "2021-07-03 10:56:36  (info) Build complete\n",
      "2021-07-03 10:56:48  (info) Function deploy complete\n",
      "> 2021-07-03 10:56:48,605 [info] function deployed, address=default-tenant.app.mlops6.iguazio-c0.com:32700\n"
     ]
    }
   ],
   "source": [
    "addr = fn.deploy(project='stay-fit')"
   ]
  },
  {
   "cell_type": "markdown",
   "metadata": {},
   "source": [
    "# Testing the Model"
   ]
  },
  {
   "cell_type": "code",
   "execution_count": 56,
   "metadata": {},
   "outputs": [
    {
     "name": "stdout",
     "output_type": "stream",
     "text": [
      "Test image:\n"
     ]
    },
    {
     "data": {
      "text/plain": [
       "<matplotlib.image.AxesImage at 0x7f924598ded0>"
      ]
     },
     "execution_count": 56,
     "metadata": {},
     "output_type": "execute_result"
    },
    {
     "data": {
      "image/png": "[encoded data removed]",
      "text/plain": [
       "<Figure size 432x288 with 1 Axes>"
      ]
     },
     "metadata": {
      "needs_background": "light"
     },
     "output_type": "display_data"
    }
   ],
   "source": [
    "yoga_image_url = 'https://lh3.googleusercontent.com/proxy/4Wb2wKotRZ7bDmQoKNnftKcmmFlojnblPB6kqcy0QgC97MwdgiQXVwI77UJ6LGcZkvuLpeZHED3av2nRVwelKw2sBMMmD3Ku7On2fNXamLbTUQ'\n",
    "response = requests.get(yoga_image_url)\n",
    "yoga_image = response.content\n",
    "img = Image.open(BytesIO(yoga_image))\n",
    "\n",
    "print('Test image:')\n",
    "plt.imshow(img)"
   ]
  },
  {
   "cell_type": "code",
   "execution_count": 57,
   "metadata": {},
   "outputs": [
    {
     "data": {
      "text/plain": [
       "{'id': 'e90baa16-e73a-430a-bea3-dc3c8d263ffc',\n",
       " 'model_name': 'model',\n",
       " 'outputs': [0.9999656677246094,\n",
       "  1.2034264500471181e-06,\n",
       "  8.157017873600125e-06,\n",
       "  1.604775206942577e-05,\n",
       "  8.992552466224879e-06]}"
      ]
     },
     "execution_count": 57,
     "metadata": {},
     "output_type": "execute_result"
    }
   ],
   "source": [
    "payload = json.dumps({\"data_url\" : yoga_image_url})\n",
    "fn.invoke(path='/v2/models/model/predict', body=payload)\n",
    "fn.invoke(path='/v2/models/model/predict',\n",
    "          body=yoga_image,\n",
    "          headers={'Content-type': 'image/jpeg'})"
   ]
  },
  {
   "cell_type": "code",
   "execution_count": 53,
   "metadata": {},
   "outputs": [
    {
     "data": {
      "text/plain": [
       "'http://default-tenant.app.mlops6.iguazio-c0.com:32700'"
      ]
     },
     "execution_count": 53,
     "metadata": {},
     "output_type": "execute_result"
    }
   ],
   "source": [
    "addr"
   ]
  }
 ],
 "metadata": {
  "kernelspec": {
   "display_name": "Python 3",
   "language": "python",
   "name": "python3"
  },
  "language_info": {
   "codemirror_mode": {
    "name": "ipython",
    "version": 3
   },
   "file_extension": ".py",
   "mimetype": "text/x-python",
   "name": "python",
   "nbconvert_exporter": "python",
   "pygments_lexer": "ipython3",
   "version": "3.7.6"
  }
 },
 "nbformat": 4,
 "nbformat_minor": 4
}
